{
  "nbformat": 4,
  "nbformat_minor": 0,
  "metadata": {
    "colab": {
      "provenance": [],
      "authorship_tag": "ABX9TyPSEnm2kr/KNNeRMokbYwl+",
      "include_colab_link": true
    },
    "kernelspec": {
      "name": "python3",
      "display_name": "Python 3"
    },
    "language_info": {
      "name": "python"
    }
  },
  "cells": [
    {
      "cell_type": "markdown",
      "metadata": {
        "id": "view-in-github",
        "colab_type": "text"
      },
      "source": [
        "<a href=\"https://colab.research.google.com/github/sadmandiu/AI-lab/blob/main/lab_1.ipynb\" target=\"_parent\"><img src=\"https://colab.research.google.com/assets/colab-badge.svg\" alt=\"Open In Colab\"/></a>"
      ]
    },
    {
      "cell_type": "code",
      "execution_count": null,
      "metadata": {
        "id": "KodW_Ymqxa9X"
      },
      "outputs": [],
      "source": []
    },
    {
      "cell_type": "code",
      "source": [
        "thislist = [\"iphone\", \"samsung\", \"oneplus\", \"walton\", \"redmi\", \"sony\", \"symphony\"]\n",
        "print(thislist)\n",
        "print(len(thislist))    #determining length\n",
        "print(type(thislist))   #determining type\n",
        "print(thislist[1])      #no.1 index\n",
        "print(thislist[-1])     #last index\n",
        "print(thislist[2:5])    #from index 2, before index 5.\n",
        "print(thislist[:4])     #from starting to before index 4\n",
        "print(thislist[2:])     #from index 2 to end"
      ],
      "metadata": {
        "colab": {
          "base_uri": "https://localhost:8080/"
        },
        "id": "TloJtdsSxdoz",
        "outputId": "452e7deb-2f9e-4982-83e8-bbe1bb4846ce"
      },
      "execution_count": 4,
      "outputs": [
        {
          "output_type": "stream",
          "name": "stdout",
          "text": [
            "['iphone', 'samsung', 'oneplus', 'walton', 'redmi', 'sony', 'symphony']\n",
            "7\n",
            "<class 'list'>\n",
            "samsung\n",
            "symphony\n",
            "['oneplus', 'walton', 'redmi']\n",
            "['iphone', 'samsung', 'oneplus', 'walton']\n",
            "['oneplus', 'walton', 'redmi', 'sony', 'symphony']\n"
          ]
        }
      ]
    },
    {
      "cell_type": "code",
      "source": [
        "thislist = [\"phy\", \"che\", \"math\"]\n",
        "thislist[1] = \"ict\"\n",
        "print(thislist)\n",
        "\n",
        "thislist.insert(2, \"eng\")\n",
        "print(thislist)\n",
        "\n",
        "thislist.append(\"ban\")\n",
        "print(thislist)\n",
        "\n",
        "thislist.remove(\"phy\")\n",
        "print(thislist)\n",
        "\n",
        "thislist.sort()\n",
        "print(thislist)\n",
        "\n",
        "mylist = thislist.copy()\n",
        "print(mylist)\n",
        "\n",
        "list1 = [\"a\", \"b\", \"c\"]\n",
        "list2 = [1, 2, 3]\n",
        "\n",
        "list3 = list1 + list2\n",
        "print(list3)"
      ],
      "metadata": {
        "colab": {
          "base_uri": "https://localhost:8080/"
        },
        "id": "RFe1BAnTxf3k",
        "outputId": "dd409da9-1040-4557-ac99-f3eac3230ef1"
      },
      "execution_count": 5,
      "outputs": [
        {
          "output_type": "stream",
          "name": "stdout",
          "text": [
            "['phy', 'ict', 'math']\n",
            "['phy', 'ict', 'eng', 'math']\n",
            "['phy', 'ict', 'eng', 'math', 'ban']\n",
            "['ict', 'eng', 'math', 'ban']\n",
            "['ban', 'eng', 'ict', 'math']\n",
            "['ban', 'eng', 'ict', 'math']\n",
            "['a', 'b', 'c', 1, 2, 3]\n"
          ]
        }
      ]
    },
    {
      "cell_type": "code",
      "source": [
        "a = (\"a\", \"b\", \"c\", \"d\", \"e\", \"f\", \"g\", \"h\")\n",
        "x = slice(3, 5)\n",
        "print(a[x])\n",
        "\n",
        "x = slice(0, 8, 3)\n",
        "print(a[x])"
      ],
      "metadata": {
        "colab": {
          "base_uri": "https://localhost:8080/"
        },
        "id": "g1wH_VbFxjYU",
        "outputId": "ba1ce98b-dd5b-46a4-e647-b1b64fdf7ec3"
      },
      "execution_count": 3,
      "outputs": [
        {
          "output_type": "stream",
          "name": "stdout",
          "text": [
            "('d', 'e')\n",
            "('a', 'd', 'g')\n"
          ]
        }
      ]
    },
    {
      "cell_type": "code",
      "source": [
        "f= open(\"/content/A.txt\")\n",
        "f = open(\"/content/A.txt\", \"r\")\n",
        "print(f.read())"
      ],
      "metadata": {
        "colab": {
          "base_uri": "https://localhost:8080/"
        },
        "id": "0chT6l4mxlBk",
        "outputId": "168bb1b7-83b5-427b-9451-95e3eeb39c81"
      },
      "execution_count": 6,
      "outputs": [
        {
          "output_type": "stream",
          "name": "stdout",
          "text": [
            "afeaf\n",
            "ahuifhiaf\n",
            "efokofjko\n",
            "ajfooejfko\n"
          ]
        }
      ]
    },
    {
      "cell_type": "code",
      "source": [
        "f = open(\"/content/A.txt\", \"a\")\n",
        "f.write(\"write\")\n",
        "f.close()\n",
        "\n",
        "\n",
        "f = open(\"/content/A.txt\", \"r\")\n",
        "print(f.read())"
      ],
      "metadata": {
        "colab": {
          "base_uri": "https://localhost:8080/"
        },
        "id": "ICJad569xmoE",
        "outputId": "29c028e8-cde0-4902-c6cc-8929a2e7674c"
      },
      "execution_count": 7,
      "outputs": [
        {
          "output_type": "stream",
          "name": "stdout",
          "text": [
            "afeaf\n",
            "ahuifhiaf\n",
            "efokofjko\n",
            "ajfooejfkowrite\n"
          ]
        }
      ]
    }
  ]
}