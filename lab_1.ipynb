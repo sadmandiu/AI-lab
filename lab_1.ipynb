{
  "nbformat": 4,
  "nbformat_minor": 0,
  "metadata": {
    "colab": {
      "provenance": [],
      "include_colab_link": true
    },
    "kernelspec": {
      "name": "python3",
      "display_name": "Python 3"
    },
    "language_info": {
      "name": "python"
    }
  },
  "cells": [
    {
      "cell_type": "markdown",
      "metadata": {
        "id": "view-in-github",
        "colab_type": "text"
      },
      "source": [
        "<a href=\"https://colab.research.google.com/github/sadmandiu/AI-lab/blob/main/lab_1.ipynb\" target=\"_parent\"><img src=\"https://colab.research.google.com/assets/colab-badge.svg\" alt=\"Open In Colab\"/></a>"
      ]
    },
    {
      "cell_type": "code",
      "execution_count": null,
      "metadata": {
        "id": "KodW_Ymqxa9X"
      },
      "outputs": [],
      "source": []
    },
    {
      "cell_type": "code",
      "source": [
        "thislist = [\"Ford\", \"BMW\", \"Honda\", \"Toyota\", \"Nissan\", \"Hyundai\", \"Marcedes-Benz\"]\n",
        "print(thislist)\n",
        "print(len(thislist))\n",
        "print(type(thislist))\n",
        "print(thislist[1])\n",
        "print(thislist[-1])\n",
        "print(thislist[2:5])\n",
        "print(thislist[:4])\n",
        "print(thislist[2:])"
      ],
      "metadata": {
        "colab": {
          "base_uri": "https://localhost:8080/"
        },
        "id": "TloJtdsSxdoz",
        "outputId": "2298c199-0ab9-48d9-b791-41858cded11a"
      },
      "execution_count": 2,
      "outputs": [
        {
          "output_type": "stream",
          "name": "stdout",
          "text": [
            "['Ford', 'BMW', 'Honda', 'Toyota', 'Nissan', 'Hyundai', 'Marcedes-Benz']\n",
            "7\n",
            "<class 'list'>\n",
            "BMW\n",
            "Marcedes-Benz\n",
            "['Honda', 'Toyota', 'Nissan']\n",
            "['Ford', 'BMW', 'Honda', 'Toyota']\n",
            "['Honda', 'Toyota', 'Nissan', 'Hyundai', 'Marcedes-Benz']\n"
          ]
        }
      ]
    },
    {
      "cell_type": "code",
      "source": [
        "thislist = [\"cse\", \"swe\", \"itm\"]\n",
        "thislist[1] = \"mct\"\n",
        "print(thislist)\n",
        "\n",
        "thislist.insert(2, \"cis\")\n",
        "print(thislist)\n",
        "\n",
        "thislist.append(\"ged\")\n",
        "print(thislist)\n",
        "\n",
        "thislist.remove(\"cse\")\n",
        "print(thislist)\n",
        "\n",
        "thislist.sort()\n",
        "print(thislist)\n",
        "\n",
        "mylist = thislist.copy()\n",
        "print(mylist)\n",
        "\n",
        "list1 = [\"a\", \"b\", \"c\"]\n",
        "list2 = [1, 2, 3]\n",
        "\n",
        "list3 = list1 + list2\n",
        "print(list3)"
      ],
      "metadata": {
        "colab": {
          "base_uri": "https://localhost:8080/"
        },
        "id": "RFe1BAnTxf3k",
        "outputId": "103e6c48-97fb-44a9-dc74-daf4ff2f6b95"
      },
      "execution_count": 3,
      "outputs": [
        {
          "output_type": "stream",
          "name": "stdout",
          "text": [
            "['cse', 'mct', 'itm']\n",
            "['cse', 'mct', 'cis', 'itm']\n",
            "['cse', 'mct', 'cis', 'itm', 'ged']\n",
            "['mct', 'cis', 'itm', 'ged']\n",
            "['cis', 'ged', 'itm', 'mct']\n",
            "['cis', 'ged', 'itm', 'mct']\n",
            "['a', 'b', 'c', 1, 2, 3]\n"
          ]
        }
      ]
    },
    {
      "cell_type": "code",
      "source": [
        "a = (\"a\", \"b\", \"c\", \"d\", \"e\", \"f\", \"g\", \"h\")\n",
        "x = slice(3, 5)\n",
        "print(a[x])\n",
        "\n",
        "x = slice(0, 8, 3)\n",
        "print(a[x])"
      ],
      "metadata": {
        "colab": {
          "base_uri": "https://localhost:8080/"
        },
        "id": "g1wH_VbFxjYU",
        "outputId": "ba1ce98b-dd5b-46a4-e647-b1b64fdf7ec3"
      },
      "execution_count": null,
      "outputs": [
        {
          "output_type": "stream",
          "name": "stdout",
          "text": [
            "('d', 'e')\n",
            "('a', 'd', 'g')\n"
          ]
        }
      ]
    },
    {
      "cell_type": "code",
      "source": [
        "f= open(\"/content/A.txt\")\n",
        "f = open(\"/content/A.txt\", \"r\")\n",
        "print(f.read())"
      ],
      "metadata": {
        "colab": {
          "base_uri": "https://localhost:8080/"
        },
        "id": "0chT6l4mxlBk",
        "outputId": "14af41ab-bf03-4061-ad93-8e3785b63366"
      },
      "execution_count": 12,
      "outputs": [
        {
          "output_type": "stream",
          "name": "stdout",
          "text": [
            "jsfhkja\n",
            "srer\n",
            "dfdsaf\n",
            "fdajrfoe\n"
          ]
        }
      ]
    },
    {
      "cell_type": "code",
      "source": [
        "f = open(\"/content/A.txt\", \"a\")\n",
        "f.write(\"write\")\n",
        "f.close()\n",
        "\n",
        "\n",
        "f = open(\"/content/A.txt\", \"r\")\n",
        "print(f.read())"
      ],
      "metadata": {
        "colab": {
          "base_uri": "https://localhost:8080/"
        },
        "id": "ICJad569xmoE",
        "outputId": "d29b6d54-23bd-4012-de69-9743e42efb83"
      },
      "execution_count": 13,
      "outputs": [
        {
          "output_type": "stream",
          "name": "stdout",
          "text": [
            "jsfhkja\n",
            "srer\n",
            "dfdsaf\n",
            "fdajrfoewrite\n"
          ]
        }
      ]
    }
  ]
}