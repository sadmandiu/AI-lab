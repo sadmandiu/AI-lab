{
  "nbformat": 4,
  "nbformat_minor": 0,
  "metadata": {
    "colab": {
      "provenance": [],
      "include_colab_link": true
    },
    "kernelspec": {
      "name": "python3",
      "display_name": "Python 3"
    },
    "language_info": {
      "name": "python"
    }
  },
  "cells": [
    {
      "cell_type": "markdown",
      "metadata": {
        "id": "view-in-github",
        "colab_type": "text"
      },
      "source": [
        "<a href=\"https://colab.research.google.com/github/sadmandiu/AI-lab/blob/main/lab_2.ipynb\" target=\"_parent\"><img src=\"https://colab.research.google.com/assets/colab-badge.svg\" alt=\"Open In Colab\"/></a>"
      ]
    },
    {
      "cell_type": "code",
      "execution_count": 7,
      "metadata": {
        "colab": {
          "base_uri": "https://localhost:8080/"
        },
        "id": "oxa0tpU5yC2A",
        "outputId": "754164b1-29b4-4b3f-a560-3abd84836bed"
      },
      "outputs": [
        {
          "output_type": "stream",
          "name": "stdout",
          "text": [
            "[1 2 7 4 5]\n",
            "[[11 22 33]\n",
            " [44 55 66]]\n",
            "[[[ 1  2  3]\n",
            "  [40 50 60]]\n",
            "\n",
            " [[ 1  2  3]\n",
            "  [40 50 60]]]\n",
            "0\n",
            "1\n",
            "2\n",
            "3\n"
          ]
        }
      ],
      "source": [
        "import numpy as np\n",
        "\n",
        "#1D array\n",
        "arr = np.array([1, 2, 7, 4, 5])\n",
        "print(arr)\n",
        "\n",
        "#2D array\n",
        "arr = np.array([[11, 22, 33], [44, 55, 66]])\n",
        "print(arr)\n",
        "\n",
        "#3D array\n",
        "arr = np.array([[[1, 2, 3], [40, 50, 60]], [[1, 2, 3], [40, 50, 60]]]) #need '2' 2D array\n",
        "print(arr)\n",
        "\n",
        "# dimentions of array\n",
        "arr1 = np.array(95)\n",
        "arr2 = np.array([61,72,90])\n",
        "arr3 = np.array([[1, 2, 3], [4, 5, 6]])\n",
        "arr4 = np.array([[[1, 2, 3], [4, 5, 6]], [[1, 2, 3], [4, 5, 6]]])\n",
        "\n",
        "print(arr1.ndim)\n",
        "print(arr2.ndim)\n",
        "print(arr3.ndim)\n",
        "print(arr4.ndim)"
      ]
    },
    {
      "cell_type": "code",
      "source": [
        "import numpy as np\n",
        "\n",
        "arr = np.array([1, 2, 3, 4])\n",
        "print(arr[2] + arr[3])\n",
        "\n",
        "\n",
        "#3rd element of 1st row\n",
        "arr = np.array([[1,2,3,4,5], [6,7,8,9,10]])\n",
        "print('3rd element of 1st row: ', arr[0, 2])\n",
        "\n",
        "\n",
        "#last element of 2nd row\n",
        "arr = np.array([[1,2,3,4,5], [6,7,8,9,10]])\n",
        "print('last element on 2nd row: ', arr[1, 4])"
      ],
      "metadata": {
        "colab": {
          "base_uri": "https://localhost:8080/"
        },
        "id": "nE5ql4gVyle1",
        "outputId": "6ac5c6c4-68a6-45a0-aa1e-c62fc4244d18"
      },
      "execution_count": 6,
      "outputs": [
        {
          "output_type": "stream",
          "name": "stdout",
          "text": [
            "7\n",
            "3rd element of 1st row:  3\n",
            "last element on 2nd row:  10\n"
          ]
        }
      ]
    },
    {
      "cell_type": "code",
      "source": [
        "import numpy as np\n",
        "\n",
        "arr = np.array([1, 2, 3, 4, 5, 6, 7])\n",
        "\n",
        "print(arr[1:4])  #from index 1 to index 3\n",
        "\n",
        "print(arr[2:])  #from index 2 to last index\n",
        "\n",
        "print(arr[:5])  #from index 0 to index 4\n",
        "\n",
        "print(arr[-3:-1])\n",
        "\n",
        "print(arr[1:5:3]) #3 means index = (i= i+3)\n",
        "\n",
        "print(arr[::2]) #from first to last, index difference is 2"
      ],
      "metadata": {
        "colab": {
          "base_uri": "https://localhost:8080/"
        },
        "id": "pwGZBUW-ypD8",
        "outputId": "1cec3e0d-1464-44de-ec60-86d43fa85b58"
      },
      "execution_count": 5,
      "outputs": [
        {
          "output_type": "stream",
          "name": "stdout",
          "text": [
            "[2 3 4]\n",
            "[3 4 5 6 7]\n",
            "[1 2 3 4 5]\n",
            "[5 6]\n",
            "[2 5]\n",
            "[1 3 5 7]\n"
          ]
        }
      ]
    },
    {
      "cell_type": "code",
      "source": [
        "# '0' means row1, '1' means row2\n",
        "\n",
        "import numpy as np\n",
        "\n",
        "arr = np.array([[1, 2, 3, 4, 5], [6, 7, 8, 9, 10]])\n",
        "print(arr[1, 1:4])\n",
        "\n",
        "#From both rows, return index 2\n",
        "arr = np.array([[1, 2, 3, 4, 5], [6, 7, 8, 9, 10]])\n",
        "print(arr[0:2, 2])\n",
        "\n",
        "#From both elements, slice index 1 to index 3, returns a 2-D array\n",
        "print(arr[0:2, 1:4])"
      ],
      "metadata": {
        "colab": {
          "base_uri": "https://localhost:8080/"
        },
        "id": "8VWQg3FoysRT",
        "outputId": "02032443-b620-4647-faf4-8324c4376736"
      },
      "execution_count": null,
      "outputs": [
        {
          "output_type": "stream",
          "name": "stdout",
          "text": [
            "[7 8 9]\n",
            "[3 8]\n",
            "[[2 3 4]\n",
            " [7 8 9]]\n"
          ]
        }
      ]
    },
    {
      "cell_type": "code",
      "source": [
        "import numpy as np\n",
        "\n",
        "#copy is a new array, the original array will not be changed\n",
        "arr = np.array([1, 2, 3, 4, 5])\n",
        "x = arr.copy()\n",
        "arr[0] = 42\n",
        "\n",
        "print(arr)\n",
        "print(x)\n",
        "\n",
        "\n",
        "#view changes the main array too.\n",
        "\n",
        "arr = np.array([1, 2, 3, 4, 5])\n",
        "x = arr.view()\n",
        "arr[0] = 42\n",
        "\n",
        "print(arr)\n",
        "print(x)"
      ],
      "metadata": {
        "colab": {
          "base_uri": "https://localhost:8080/"
        },
        "id": "ejfT4bJgyxsc",
        "outputId": "37c4e52a-b632-4f48-cca1-2f34f7ded494"
      },
      "execution_count": 8,
      "outputs": [
        {
          "output_type": "stream",
          "name": "stdout",
          "text": [
            "[42  2  3  4  5]\n",
            "[1 2 3 4 5]\n",
            "[42  2  3  4  5]\n",
            "[42  2  3  4  5]\n"
          ]
        }
      ]
    },
    {
      "cell_type": "code",
      "source": [
        "import numpy as np\n",
        "#1D\n",
        "arr = np.array([1, 2, 3, 4, 5])\n",
        "print(arr.shape)\n",
        "\n",
        "#2D\n",
        "arr = np.array([[1, 2, 3, 4], [5, 6, 7, 8]])\n",
        "print(arr.shape)\n",
        "\n",
        "#1D to 2D convertr\n",
        "arr = np.array([1, 2, 3, 4, 5, 6, 7, 8, 9, 10, 11, 12])\n",
        "newarr = arr.reshape(3,4)\n",
        "print(newarr)\n",
        "\n",
        "#1D to 3D\n",
        "arr = np.array([1, 2, 3, 4, 5, 6, 7, 8, 9, 10, 11, 12])\n",
        "newarr = arr.reshape(2, 3, 2)\n",
        "print(newarr)"
      ],
      "metadata": {
        "colab": {
          "base_uri": "https://localhost:8080/"
        },
        "id": "MNwCq585yzfT",
        "outputId": "1d63d299-3272-4769-dc03-9636d0f3b045"
      },
      "execution_count": null,
      "outputs": [
        {
          "output_type": "stream",
          "name": "stdout",
          "text": [
            "(5,)\n",
            "(2, 4)\n",
            "[[ 1  2  3  4]\n",
            " [ 5  6  7  8]\n",
            " [ 9 10 11 12]]\n",
            "[[[ 1  2]\n",
            "  [ 3  4]\n",
            "  [ 5  6]]\n",
            "\n",
            " [[ 7  8]\n",
            "  [ 9 10]\n",
            "  [11 12]]]\n"
          ]
        }
      ]
    },
    {
      "cell_type": "code",
      "source": [
        "import numpy as np\n",
        "\n",
        "arr = np.array([1, 2, 3])\n",
        "#print all the elements one by one,in a single column\n",
        "for x in arr:\n",
        "  print(x)\n",
        "\n",
        "\n",
        "#print array elements as it is\n",
        "arr = np.array([[1, 2, 3], [4, 5, 6]])\n",
        "for x in arr:\n",
        "  print(x)\n",
        "\n",
        "#print all the elements under a single column\n",
        "arr = np.array([[1, 2, 3], [4, 5, 6]])\n",
        "for x in arr:\n",
        "  for y in x:\n",
        "    print(y)"
      ],
      "metadata": {
        "colab": {
          "base_uri": "https://localhost:8080/"
        },
        "id": "fFWR1ucly1Gq",
        "outputId": "6e901d08-d1e1-4cac-974a-71b1f87f68c7"
      },
      "execution_count": null,
      "outputs": [
        {
          "output_type": "stream",
          "name": "stdout",
          "text": [
            "1\n",
            "2\n",
            "3\n",
            "[1 2 3]\n",
            "[4 5 6]\n",
            "1\n",
            "2\n",
            "3\n",
            "4\n",
            "5\n",
            "6\n"
          ]
        }
      ]
    },
    {
      "cell_type": "code",
      "source": [
        "#Axis 0 measn row , Axis 1 means column\n",
        "\n",
        "import numpy as np\n",
        "\n",
        "#by default same row te boshbe\n",
        "arr1 = np.array([1, 2, 3])\n",
        "arr2 = np.array([4, 5, 6])\n",
        "arr = np.concatenate((arr1, arr2))\n",
        "print(arr)\n",
        "\n",
        "\n",
        "#print 2nd array as a new row\n",
        "arr1 = np.array([[1, 2], [3, 4]])\n",
        "arr2 = np.array([[5, 6], [7, 8]])\n",
        "arr = np.concatenate((arr1, arr2), axis=1)\n",
        "\n",
        "print(arr)"
      ],
      "metadata": {
        "colab": {
          "base_uri": "https://localhost:8080/"
        },
        "id": "zJEPj3YAy21v",
        "outputId": "e6241a10-5e3a-45f7-f87a-4d98fd597934"
      },
      "execution_count": null,
      "outputs": [
        {
          "output_type": "stream",
          "name": "stdout",
          "text": [
            "[1 2 3 4 5 6]\n",
            "[[1 2 5 6]\n",
            " [3 4 7 8]]\n"
          ]
        }
      ]
    },
    {
      "cell_type": "code",
      "source": [
        "import numpy as np\n",
        "\n",
        "arr = np.array([3, 2, 0, 1])\n",
        "print(np.sort(arr))\n",
        "\n",
        "\n",
        "arr = np.array(['iphone', 'xiaomi', 'nokia'])\n",
        "print(np.sort(arr))\n",
        "\n",
        "\n",
        "arr = np.array([[3, 2, 4], [5, 0, 1]])\n",
        "print(np.sort(arr))"
      ],
      "metadata": {
        "colab": {
          "base_uri": "https://localhost:8080/"
        },
        "id": "pNU92j5ty4ez",
        "outputId": "621b93fe-a910-4292-ad99-63100792d3a1"
      },
      "execution_count": null,
      "outputs": [
        {
          "output_type": "stream",
          "name": "stdout",
          "text": [
            "[0 1 2 3]\n",
            "['iphone' 'nokia' 'xiaomi']\n",
            "[[2 3 4]\n",
            " [0 1 5]]\n"
          ]
        }
      ]
    }
  ]
}